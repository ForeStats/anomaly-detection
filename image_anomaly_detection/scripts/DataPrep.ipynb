{
 "cells": [
  {
   "cell_type": "code",
   "execution_count": 1,
   "id": "2b72effb",
   "metadata": {},
   "outputs": [],
   "source": [
    "import os\n",
    "import shutil\n",
    "import numpy as np\n",
    "from sklearn.model_selection import train_test_split"
   ]
  },
  {
   "cell_type": "code",
   "execution_count": 2,
   "id": "117ef169",
   "metadata": {},
   "outputs": [
    {
     "name": "stdout",
     "output_type": "stream",
     "text": [
      "391\n"
     ]
    }
   ],
   "source": [
    "i = 0\n",
    "source_path=\"../rawData/train/good/\"\n",
    "dest_path=\"../data/\"\n",
    "for filename in os.listdir(source_path):\n",
    "    my_dest = \"good_\" + str(i) + \".jpg\"\n",
    "    my_source = source_path + filename\n",
    "    my_dest = dest_path + my_dest\n",
    "    shutil.copy(my_source, my_dest)\n",
    "    i += 1\n",
    "    \n",
    "print(i)"
   ]
  },
  {
   "cell_type": "code",
   "execution_count": 3,
   "id": "1fb2e98e",
   "metadata": {},
   "outputs": [
    {
     "name": "stdout",
     "output_type": "stream",
     "text": [
      "431\n"
     ]
    }
   ],
   "source": [
    "source_path=\"../rawData/test/good/\"\n",
    "dest_path=\"../data/\"\n",
    "for filename in os.listdir(source_path):\n",
    "    my_dest = \"good_\" + str(i) + \".jpg\"\n",
    "    my_source = source_path + filename\n",
    "    my_dest = dest_path + my_dest\n",
    "    shutil.copy(my_source, my_dest)\n",
    "    i += 1\n",
    "    \n",
    "print(i)"
   ]
  },
  {
   "cell_type": "code",
   "execution_count": 4,
   "id": "4358ed14",
   "metadata": {},
   "outputs": [
    {
     "name": "stdout",
     "output_type": "stream",
     "text": [
      "18\n"
     ]
    }
   ],
   "source": [
    "i = 0\n",
    "source_path=\"../rawData/test/hole/\"\n",
    "dest_path=\"../data/\"\n",
    "for filename in os.listdir(source_path):\n",
    "    my_dest = \"bad_\" + str(i) + \".jpg\"\n",
    "    my_source = source_path + filename\n",
    "    my_dest = dest_path + my_dest\n",
    "    shutil.copy(my_source, my_dest)\n",
    "    i += 1\n",
    "    \n",
    "print(i)"
   ]
  },
  {
   "cell_type": "code",
   "execution_count": 5,
   "id": "c4d32def",
   "metadata": {},
   "outputs": [
    {
     "name": "stdout",
     "output_type": "stream",
     "text": [
      "35\n"
     ]
    }
   ],
   "source": [
    "source_path=\"../rawData/test/cut/\"\n",
    "dest_path=\"../data/\"\n",
    "for filename in os.listdir(source_path):\n",
    "    my_dest = \"bad_\" + str(i) + \".jpg\"\n",
    "    my_source = source_path + filename\n",
    "    my_dest = dest_path + my_dest\n",
    "    shutil.copy(my_source, my_dest)\n",
    "    i += 1\n",
    "    \n",
    "print(i)"
   ]
  },
  {
   "cell_type": "code",
   "execution_count": 6,
   "id": "c4959f70",
   "metadata": {},
   "outputs": [
    {
     "name": "stdout",
     "output_type": "stream",
     "text": [
      "52\n"
     ]
    }
   ],
   "source": [
    "source_path=\"../rawData/test/print/\"\n",
    "dest_path=\"../data/\"\n",
    "for filename in os.listdir(source_path):\n",
    "    my_dest = \"bad_\" + str(i) + \".jpg\"\n",
    "    my_source = source_path + filename\n",
    "    my_dest = dest_path + my_dest\n",
    "    shutil.copy(my_source, my_dest)\n",
    "    i += 1\n",
    "    \n",
    "print(i)"
   ]
  },
  {
   "cell_type": "code",
   "execution_count": 7,
   "id": "9d6d7487",
   "metadata": {},
   "outputs": [
    {
     "name": "stdout",
     "output_type": "stream",
     "text": [
      "70\n"
     ]
    }
   ],
   "source": [
    "source_path=\"../rawData/test/crack/\"\n",
    "dest_path=\"../data/\"\n",
    "for filename in os.listdir(source_path):\n",
    "    my_dest = \"bad_\" + str(i) + \".jpg\"\n",
    "    my_source = source_path + filename\n",
    "    my_dest = dest_path + my_dest\n",
    "    shutil.copy(my_source, my_dest)\n",
    "    i += 1\n",
    "    \n",
    "print(i)"
   ]
  },
  {
   "cell_type": "code",
   "execution_count": 8,
   "id": "de1141e1",
   "metadata": {},
   "outputs": [],
   "source": [
    "# ! find . -name \".DS_Store\" -delete"
   ]
  },
  {
   "cell_type": "code",
   "execution_count": 28,
   "id": "f312f47f",
   "metadata": {},
   "outputs": [
    {
     "name": "stdout",
     "output_type": "stream",
     "text": [
      "[0 0 0 0 0 0 0 0 1 0 0 1 0 1 0 0 0 0 0 0 0 0 0 1 0 1 0 1 0 0 0 0 0 0 0 0 0\n",
      " 0 0 0 0 0 0 0 0 0 1 0 0 0 1 0 0 0 1 0 0 0 0 1 0 0 0 0 0 0 0 0 0 0 0 0 0 0\n",
      " 0 0 0 0 0 0 1 0 0 0 1 0 0 0 0 0 1 0 0 0 1 0 0 0 0 0 0 0 0 0 0 0 0 0 0 0 0\n",
      " 0 1 0 1 0 0 0 0 1 0 0 1 0 0 0 1 0 1 0 0 0 0 0 0 0 0 0 0 0 0 0 0 0 0 0 0 1\n",
      " 0 0 1 0 0 0 0 0 0 0 0 0 0 0 0 0 0 0 0 1 1 0 0 0 0 1 1 0 0 0 0 0 0 0 0 0 0\n",
      " 0 0 0 0 1 0 0 1 1 0 0 1 0 0 0 0 0 0 0 0 0 0 0 0 0 0 0 1 0 0 0 0 1 0 0 0 0\n",
      " 0 0 0 0 0 0 0 0 0 0 0 0 0 0 1 0 0 1 1 0 0 1 0 0 0 0 0 0 0 0 0 0 0 0 0 0 0\n",
      " 0 0 0 0 1 0 1 1 0 0 1 1 0 1 0 0 0 0 0 0 0 0 0 0 0 0 0 0 0 0 0 0 0 1 1 0 0\n",
      " 1 1 0 0 0 0 0 0 0 0 0 0 0 0 0 0 0 0 0 0 0 0 1 0 0 1 0 0 1 0 0 1 0 0 0 0 0\n",
      " 0 0 0 0 0 0 0 0 0 0 0 0 0 0 0 0 0 0 1 1 0 0 0 0 0 0 0 1 0 1 0 0 0 0 0 0 0\n",
      " 0 0 0 0 0 0 0 0 0 0 0 0 0 0 0 0 0 0 0 0 1 0 0 1 0 0 0 0 1 0 0 0 1 0 0 0 0\n",
      " 0 0 0 0 0 0 0 0 0 0 0 0 0 0 0 0 0 0 0 0 0 1 0 0 0 1 0 0 0 0 0 0 1 0 0 1 0\n",
      " 0 0 0 0 0 0 0 0 0 0 0 0 0 0 0 0 0 0 0 0 0 0 0 0 1 0 1 0 0 1 0 0 1 0 0 0 0\n",
      " 0 1 0 0 1 1 0 0 0 1 0 0 0 0 0 0 0 0 0 0]\n"
     ]
    }
   ],
   "source": [
    "fnames = os.listdir(\"../data\")\n",
    "labels = np.array([fn[0] for fn in fnames])\n",
    "labels[labels == 'g'] = 0\n",
    "labels[labels == 'b'] = 1\n",
    "labels = labels.astype(int)\n",
    "print(labels)"
   ]
  },
  {
   "cell_type": "code",
   "execution_count": 30,
   "id": "699924d2",
   "metadata": {},
   "outputs": [],
   "source": [
    "X_train, X_test, y_train, y_test = train_test_split(fnames, labels, test_size=0.2, \n",
    "                                                    random_state=42, stratify=labels)"
   ]
  },
  {
   "cell_type": "code",
   "execution_count": 31,
   "id": "81147d8f",
   "metadata": {},
   "outputs": [
    {
     "name": "stdout",
     "output_type": "stream",
     "text": [
      "400\n",
      "101\n",
      "400\n",
      "101\n"
     ]
    }
   ],
   "source": [
    "print(len(X_train))\n",
    "print(len(X_test))\n",
    "print(len(y_train))\n",
    "print(len(y_test))"
   ]
  },
  {
   "cell_type": "code",
   "execution_count": 34,
   "id": "87c4fa8d",
   "metadata": {},
   "outputs": [
    {
     "name": "stdout",
     "output_type": "stream",
     "text": [
      "400\n"
     ]
    }
   ],
   "source": [
    "i = 0\n",
    "source_path=\"../data/\"\n",
    "n_dest_path=\"../train/normal/\"\n",
    "a_dest_path=\"../train/anomaly/\"\n",
    "\n",
    "for i in range(len(y_train)):\n",
    "    fn = X_train[i]\n",
    "    lab = y_train[i]\n",
    "    my_source = source_path + fn\n",
    "    \n",
    "    if(lab == 0):\n",
    "        my_dest = n_dest_path + fn\n",
    "        shutil.copy(my_source, my_dest)\n",
    "    else:\n",
    "        my_dest = a_dest_path + fn\n",
    "        shutil.copy(my_source, my_dest)\n",
    "    i += 1\n",
    "\n",
    "print(i)    "
   ]
  },
  {
   "cell_type": "code",
   "execution_count": 35,
   "id": "05648c22",
   "metadata": {},
   "outputs": [
    {
     "name": "stdout",
     "output_type": "stream",
     "text": [
      "101\n"
     ]
    }
   ],
   "source": [
    "i = 0\n",
    "source_path=\"../data/\"\n",
    "n_dest_path=\"../test/normal/\"\n",
    "a_dest_path=\"../test/anomaly/\"\n",
    "\n",
    "for i in range(len(y_test)):\n",
    "    fn = X_test[i]\n",
    "    lab = y_test[i]\n",
    "    my_source = source_path + fn\n",
    "    \n",
    "    if(lab == 0):\n",
    "        my_dest = n_dest_path + fn\n",
    "        shutil.copy(my_source, my_dest)\n",
    "    else:\n",
    "        my_dest = a_dest_path + fn\n",
    "        shutil.copy(my_source, my_dest)\n",
    "    i += 1\n",
    "\n",
    "print(i)"
   ]
  }
 ],
 "metadata": {
  "kernelspec": {
   "display_name": "Python 3 (ipykernel)",
   "language": "python",
   "name": "python3"
  },
  "language_info": {
   "codemirror_mode": {
    "name": "ipython",
    "version": 3
   },
   "file_extension": ".py",
   "mimetype": "text/x-python",
   "name": "python",
   "nbconvert_exporter": "python",
   "pygments_lexer": "ipython3",
   "version": "3.8.5"
  }
 },
 "nbformat": 4,
 "nbformat_minor": 5
}
